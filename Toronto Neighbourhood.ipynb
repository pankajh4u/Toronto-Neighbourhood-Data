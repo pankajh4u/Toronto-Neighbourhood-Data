{
 "cells": [
  {
   "cell_type": "markdown",
   "metadata": {
    "collapsed": true
   },
   "source": [
    "# Notebook for Extraction of Toronto Neighbourhood Data from Wikipedia"
   ]
  },
  {
   "cell_type": "code",
   "execution_count": 1,
   "metadata": {},
   "outputs": [],
   "source": [
    "from pandas.io.html import read_html"
   ]
  },
  {
   "cell_type": "code",
   "execution_count": 2,
   "metadata": {},
   "outputs": [
    {
     "name": "stdout",
     "output_type": "stream",
     "text": [
      "Extracted 1 wikitables\n"
     ]
    }
   ],
   "source": [
    "page = \"https://en.wikipedia.org/wiki/List_of_postal_codes_of_Canada:_M\"\n",
    "wikitables = read_html(page, attrs={\"class\":\"wikitable\"})\n",
    "print (\"Extracted {num} wikitables\".format(num=len(wikitables)))"
   ]
  },
  {
   "cell_type": "markdown",
   "metadata": {},
   "source": [
    "Need to now see whether this is the one we are looking for"
   ]
  },
  {
   "cell_type": "code",
   "execution_count": 3,
   "metadata": {},
   "outputs": [
    {
     "name": "stdout",
     "output_type": "stream",
     "text": [
      "          0             1                 2\n",
      "0  Postcode       Borough     Neighbourhood\n",
      "1       M1A  Not assigned      Not assigned\n",
      "2       M2A  Not assigned      Not assigned\n",
      "3       M3A    North York         Parkwoods\n",
      "4       M4A    North York  Victoria Village\n"
     ]
    }
   ],
   "source": [
    "print (wikitables[0].head())"
   ]
  },
  {
   "cell_type": "markdown",
   "metadata": {},
   "source": [
    "Good to go now!!"
   ]
  },
  {
   "cell_type": "code",
   "execution_count": 4,
   "metadata": {},
   "outputs": [
    {
     "name": "stdout",
     "output_type": "stream",
     "text": [
      "0 Postcode           Borough     Neighbourhood\n",
      "1      M1A      Not assigned      Not assigned\n",
      "2      M2A      Not assigned      Not assigned\n",
      "3      M3A        North York         Parkwoods\n",
      "4      M4A        North York  Victoria Village\n",
      "5      M5A  Downtown Toronto      Harbourfront\n"
     ]
    }
   ],
   "source": [
    "canada_neighbourhood_details_df = wikitables[0]\n",
    "canada_neighbourhood_details_df.columns = canada_neighbourhood_details_df.iloc[0]\n",
    "canada_neighbourhood_details_df = canada_neighbourhood_details_df.reindex(canada_neighbourhood_details_df.index.drop(0))\n",
    "print (canada_neighbourhood_details_df.head())"
   ]
  },
  {
   "cell_type": "markdown",
   "metadata": {},
   "source": [
    "Lets cleanup data now"
   ]
  },
  {
   "cell_type": "code",
   "execution_count": 5,
   "metadata": {},
   "outputs": [
    {
     "name": "stdout",
     "output_type": "stream",
     "text": [
      "0 Postcode           Borough     Neighbourhood\n",
      "0      M3A        North York         Parkwoods\n",
      "1      M4A        North York  Victoria Village\n",
      "2      M5A  Downtown Toronto      Harbourfront\n",
      "3      M5A  Downtown Toronto       Regent Park\n",
      "4      M6A        North York  Lawrence Heights\n"
     ]
    }
   ],
   "source": [
    "mod_can_nei_det_df = canada_neighbourhood_details_df[canada_neighbourhood_details_df.Borough != \"Not assigned\"]\n",
    "mod_can_nei_det_df = mod_can_nei_det_df.reset_index(drop=True)\n",
    "print (mod_can_nei_det_df.head())"
   ]
  },
  {
   "cell_type": "markdown",
   "metadata": {},
   "source": [
    "Lets see if we have any more \"Not assigned values\""
   ]
  },
  {
   "cell_type": "code",
   "execution_count": 6,
   "metadata": {},
   "outputs": [
    {
     "name": "stdout",
     "output_type": "stream",
     "text": [
      "0 Postcode       Borough Neighbourhood\n",
      "6      M7A  Queen's Park  Not assigned\n"
     ]
    }
   ],
   "source": [
    "print (mod_can_nei_det_df[mod_can_nei_det_df.Neighbourhood == \"Not assigned\"].head(10))"
   ]
  },
  {
   "cell_type": "markdown",
   "metadata": {},
   "source": [
    "Lets change 'Not assigned' to Borough"
   ]
  },
  {
   "cell_type": "code",
   "execution_count": 7,
   "metadata": {},
   "outputs": [
    {
     "name": "stdout",
     "output_type": "stream",
     "text": [
      "Value Post assignment is = \n",
      "0 Neighbourhood\n",
      "6  Queen's Park\n",
      "Empty DataFrame\n",
      "Columns: [Postcode, Borough, Neighbourhood]\n",
      "Index: []\n",
      "Shape of the table after above modifications is (212, 3)\n"
     ]
    }
   ],
   "source": [
    "mod_can_nei_det_df.iloc[[6], [2]] = mod_can_nei_det_df.iloc[[6], [1]].values\n",
    "print (\"Value Post assignment is = \\n{}\".format(mod_can_nei_det_df.iloc[[6], [2]]))\n",
    "print (mod_can_nei_det_df[mod_can_nei_det_df.Neighbourhood == \"Not assigned\"].head(10))\n",
    "print (\"Shape of the table after above modifications is {}\".format(mod_can_nei_det_df.shape))"
   ]
  },
  {
   "cell_type": "markdown",
   "metadata": {},
   "source": [
    "Time to consolidate all neighbourhood's postal code who have same postcode"
   ]
  },
  {
   "cell_type": "code",
   "execution_count": 9,
   "metadata": {},
   "outputs": [],
   "source": [
    "mod_can_nei_det_df = mod_can_nei_det_df.groupby(['Postcode','Borough'],as_index=False).agg(','.join)"
   ]
  },
  {
   "cell_type": "code",
   "execution_count": 10,
   "metadata": {},
   "outputs": [
    {
     "name": "stdout",
     "output_type": "stream",
     "text": [
      "0 Postcode      Borough                         Neighbourhood\n",
      "0      M1B  Scarborough                         Rouge,Malvern\n",
      "1      M1C  Scarborough  Highland Creek,Rouge Hill,Port Union\n",
      "2      M1E  Scarborough       Guildwood,Morningside,West Hill\n",
      "3      M1G  Scarborough                                Woburn\n",
      "4      M1H  Scarborough                             Cedarbrae\n"
     ]
    }
   ],
   "source": [
    "print (mod_can_nei_det_df.head())"
   ]
  },
  {
   "cell_type": "code",
   "execution_count": 11,
   "metadata": {},
   "outputs": [
    {
     "name": "stdout",
     "output_type": "stream",
     "text": [
      "Shape of table after grouping Neighbourhood values is (103, 3)\n"
     ]
    }
   ],
   "source": [
    "print (\"Shape of table after grouping Neighbourhood values is {}\".format(mod_can_nei_det_df.shape))"
   ]
  },
  {
   "cell_type": "code",
   "execution_count": null,
   "metadata": {},
   "outputs": [],
   "source": []
  }
 ],
 "metadata": {
  "kernelspec": {
   "display_name": "Python 3.5",
   "language": "python",
   "name": "python3"
  },
  "language_info": {
   "codemirror_mode": {
    "name": "ipython",
    "version": 3
   },
   "file_extension": ".py",
   "mimetype": "text/x-python",
   "name": "python",
   "nbconvert_exporter": "python",
   "pygments_lexer": "ipython3",
   "version": "3.5.5"
  }
 },
 "nbformat": 4,
 "nbformat_minor": 1
}
